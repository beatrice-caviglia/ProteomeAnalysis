{
 "cells": [
  {
   "cell_type": "code",
   "execution_count": 1,
   "id": "ef3047a8-7d91-4f7c-acd9-adeb0dc1bace",
   "metadata": {},
   "outputs": [],
   "source": [
    "### This script computes the translational diffusion coefficients of a crowded protein trajectory: blockwise, per protein\n",
    "\n",
    "### Inputs: TPR file, XTC files, protein_indeces.txt files, and Proteome Class code\n",
    "### Output: DT diffusion coefficients"
   ]
  },
  {
   "cell_type": "code",
   "execution_count": 2,
   "id": "4032c916-242d-459f-bed3-8971b15819b4",
   "metadata": {
    "scrolled": true
   },
   "outputs": [],
   "source": [
    "import sys\n",
    "import os\n",
    "sys.path.append(os.path.abspath('../ProteomeClass/'))\n",
    "from proteome import *\n",
    "import re\n",
    "sys.path.append('source_codes/') \n",
    "from DC_correction_PBC import *\n"
   ]
  },
  {
   "cell_type": "code",
   "execution_count": null,
   "id": "aa253dbf-ec49-432a-8758-e7e8068af2bb",
   "metadata": {},
   "outputs": [],
   "source": [
    "#### USER modifications #####################################################################\n",
    "\n",
    "base         = '../../../Data.Availability/Upload/TRJ_Psychro_sys4/System4/'\n",
    "directory    = base + 'Folded/'\n",
    "indeces_file = base + 'Files/protein_indeces.txt' \n",
    "TPR_file     = directory + '300K/sys.tpr'\n",
    "XTC_file     = '/traj_prot.xtc'\n",
    "\n",
    "output_dir   = 'Results'\n",
    "\n",
    "#############################################################################################\n",
    "\n",
    "pattern      = re.compile(r'^\\d+K$')\n",
    "temp_dirs    = [name for name in os.listdir(directory) if os.path.isdir(os.path.join(directory, name)) and pattern.match(name)]\n",
    "temps        = [int(t[:-1]) for t in temp_dirs]\n",
    "\n",
    "# Create Proteome Object\n",
    "prot1 = Proteome(tpr_file     = TPR_file, \n",
    "                 indices_path = indeces_file, \n",
    "                 outputdir    = output_dir , \n",
    "                 base         = 'P_Arcticus',\n",
    "                 plot         = True,\n",
    "                 selection    = \"protein\"\n",
    "                )\n",
    "\n",
    "# Loop over the temperatures to find the blockwise translational diffusion\n",
    "DT = []\n",
    "DT_err = []\n",
    "\n",
    "for T_dir in temp_dirs:\n",
    "    print('Processing Temperature: ', T_dir)\n",
    "    prot1.add_trajectory(directory + T_dir + XTC_file)\n",
    "    prot1.center_of_masses(append=False)\n",
    "    prot1.msd_com(n_blocks=5)\n",
    "    prot1.msd_com_weighted()\n",
    "    dt = prot1.dt_com_weighted()\n",
    "    DT.append(dt)\n",
    "    DT_err.append(prot1.D_wavg_err)\n",
    "\n",
    "DT = np.array(DT)\n",
    "DT_err = np.array(DT_err)"
   ]
  },
  {
   "cell_type": "markdown",
   "id": "b871e0ac-0665-4861-aa94-852a3621cf6d",
   "metadata": {},
   "source": [
    "### Correct DT"
   ]
  },
  {
   "cell_type": "code",
   "execution_count": 22,
   "id": "81ccc433-5ff3-4374-b8d1-e386d1305e68",
   "metadata": {},
   "outputs": [],
   "source": [
    "visc_array = '../../../Data.Availability/Upload/TRJ_Psychro_sys4/System4/Examples/Viscosity/Psychro/fit_BDtDE.npy' # Array of viscosity parameters\n",
    "DT_corr = DT + get_correction_crowded(17, np.array(temps), indeces_file, visc_array)\n"
   ]
  },
  {
   "cell_type": "code",
   "execution_count": null,
   "id": "6780a6a9-862b-4d68-884a-714a6eebcc16",
   "metadata": {},
   "outputs": [],
   "source": [
    "# fig = plt.figure(figsize=(2.1, 3), dpi=200) \n",
    "# plt.errorbar(np.array(temps), DT_corr, DT_err, fmt = 'o--')\n",
    "\n",
    "# plt.ylabel('$D_t$ ($\\\\mathrm{\\\\AA}^2$/ns)')\n",
    "# plt.xlabel('$T$ (K)')\n",
    "# # plt.ylim((0, 1.7))\n",
    "# plt.show()"
   ]
  }
 ],
 "metadata": {
  "kernelspec": {
   "display_name": "Python 3 (ipykernel)",
   "language": "python",
   "name": "python3"
  },
  "language_info": {
   "codemirror_mode": {
    "name": "ipython",
    "version": 3
   },
   "file_extension": ".py",
   "mimetype": "text/x-python",
   "name": "python",
   "nbconvert_exporter": "python",
   "pygments_lexer": "ipython3",
   "version": "3.12.3"
  }
 },
 "nbformat": 4,
 "nbformat_minor": 5
}
