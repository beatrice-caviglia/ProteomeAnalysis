{
 "cells": [
  {
   "cell_type": "code",
   "execution_count": 1,
   "id": "3dd69d97-f4b5-4140-a635-c5835edeea09",
   "metadata": {
    "scrolled": true
   },
   "outputs": [],
   "source": [
    "### This script computes inter-protein contacts throughout an MD trajectory\n",
    "\n",
    "### Inputs: TPR file, XTC files, protein_indeces.txt files, Proteome Class code, Threshold radius\n",
    "### Output: List of Contacts"
   ]
  },
  {
   "cell_type": "code",
   "execution_count": null,
   "id": "363193c5-d730-4315-9ec0-b514902e8f7d",
   "metadata": {},
   "outputs": [],
   "source": [
    "import sys\n",
    "import os\n",
    "sys.path.append('../ProteomeClass/') \n",
    "from proteome import *\n",
    "import re\n",
    "from scipy.stats import gaussian_kde\n",
    "\n",
    "#### USER modifications ####################################\n",
    "directory    = '../../Data.Availability/Upload/TRJ_Psychro_sys1/System1/'\n",
    "indices_file = directory + 'Files/protein_indeces.txt'\n",
    "TPR_file     = directory + '/Folded/300K/sys_prot.tpr'\n",
    "XTC_file     = directory + '/Folded/%sK/traj_prot.xtc'\n",
    "temps        = [300]\n",
    "\n",
    "output_dir   = 'Contacts_PA_test'\n",
    "nr_processes = 10\n",
    "radius_cnt   = 3    # Angstroms\n",
    "skip         = 5 # skip rate frames\n",
    "###########################################################\n",
    "\n",
    "\n",
    "prot1 = Proteome(tpr_file     = TPR_file, \n",
    "                 indices_path = indices_file,\n",
    "                 outputdir    = output_dir, \n",
    "                 base         = 'P_Arcticus',\n",
    "                 plot         = True,\n",
    "                 selection    = \"protein\"\n",
    "                )\n",
    "\n",
    "output_directory = os.path.join('./',output_dir)  # Define the new directory path\n",
    "os.makedirs(output_directory, exist_ok=True)  # Create the directory if it doesn't exist\n",
    "\n",
    "for T in temps:\n",
    "    print('Processing Temperature ', T, ' K')\n",
    "    output_directory_curr = os.path.join(output_directory, '%sK'%T)  # Define the new directory path\n",
    "    os.makedirs(output_directory_curr, exist_ok=True)  # Create the directory if it doesn't exist\n",
    "    nums = '0'\n",
    "\n",
    "    prot1.add_trajectory(XTC_file%T)\n",
    "    prot1.add_wrapped_trajectory(XTC_file%T)\n",
    "    com = prot1.center_of_masses()\n",
    "    prot1.write_com_to_xtc(filename = 'COM_trajectory')\n",
    "            \n",
    "    Contacts, List,_ = prot1.contacts(type_cont='allres', radius_contact=radius_cnt, skip=skip, processes = nr_processes, \n",
    "                                      create_trajectory=False, show_wrap=True, output_file=\"Trajectory.pdb\")\n"
   ]
  },
  {
   "cell_type": "code",
   "execution_count": null,
   "id": "c997dd09-409a-4561-b1db-03eaa07deaa9",
   "metadata": {},
   "outputs": [],
   "source": []
  }
 ],
 "metadata": {
  "kernelspec": {
   "display_name": "Python 3 (ipykernel)",
   "language": "python",
   "name": "python3"
  },
  "language_info": {
   "codemirror_mode": {
    "name": "ipython",
    "version": 3
   },
   "file_extension": ".py",
   "mimetype": "text/x-python",
   "name": "python",
   "nbconvert_exporter": "python",
   "pygments_lexer": "ipython3",
   "version": "3.12.3"
  }
 },
 "nbformat": 4,
 "nbformat_minor": 5
}
